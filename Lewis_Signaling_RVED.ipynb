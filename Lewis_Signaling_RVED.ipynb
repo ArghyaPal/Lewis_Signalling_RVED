{
  "nbformat": 4,
  "nbformat_minor": 0,
  "metadata": {
    "colab": {
      "name": "Lewis_Signaling_RVED.ipynb",
      "provenance": [],
      "collapsed_sections": [],
      "authorship_tag": "ABX9TyNPlOXj5iF9gcwjqLQ130RU",
      "include_colab_link": true
    },
    "kernelspec": {
      "name": "python3",
      "display_name": "Python 3"
    }
  },
  "cells": [
    {
      "cell_type": "markdown",
      "metadata": {
        "id": "view-in-github",
        "colab_type": "text"
      },
      "source": [
        "<a href=\"https://colab.research.google.com/github/ArghyaPal/Lewis_Signalling_RVED/blob/master/Lewis_Signaling_RVED.ipynb\" target=\"_parent\"><img src=\"https://colab.research.google.com/assets/colab-badge.svg\" alt=\"Open In Colab\"/></a>"
      ]
    },
    {
      "cell_type": "code",
      "metadata": {
        "id": "Sc5mZpcun8j1",
        "colab_type": "code",
        "colab": {}
      },
      "source": [
        "import torch.optim as optim\n",
        "from torchvision import datasets,transforms\n",
        "import torch.utils\n",
        "from draw_model import DrawModel\n",
        "from config import *\n",
        "from utility import Variable,save_image,xrecons_grid\n",
        "import torch.nn.utils\n",
        "import matplotlib.pyplot as plt"
      ],
      "execution_count": null,
      "outputs": []
    },
    {
      "cell_type": "code",
      "metadata": {
        "id": "6LK-QdSjoFPq",
        "colab_type": "code",
        "colab": {}
      },
      "source": [
        "torch.set_default_tensor_type('torch.FloatTensor')\n",
        "\n",
        "train_loader = torch.utils.data.DataLoader(\n",
        "    datasets.MNIST('data/', train=True, download=True,\n",
        "                   transform=transforms.Compose([\n",
        "                       transforms.ToTensor()])),\n",
        "    batch_size=batch_size, shuffle=False)"
      ],
      "execution_count": null,
      "outputs": []
    },
    {
      "cell_type": "code",
      "metadata": {
        "id": "oBUVgNwqoKKS",
        "colab_type": "code",
        "colab": {}
      },
      "source": [
        "model = DrawModel(T,A,B,z_size,N,dec_size,enc_size, train_loader)\n",
        "optimizer = optim.Adam(model.parameters(),lr=learning_rate,betas=(beta1,0.999))"
      ],
      "execution_count": null,
      "outputs": []
    },
    {
      "cell_type": "code",
      "metadata": {
        "id": "Ha5PceqqoMZh",
        "colab_type": "code",
        "colab": {}
      },
      "source": [
        "if USE_CUDA:\n",
        "    model.cuda()"
      ],
      "execution_count": null,
      "outputs": []
    },
    {
      "cell_type": "code",
      "metadata": {
        "id": "6zFqEkYtoO5n",
        "colab_type": "code",
        "colab": {}
      },
      "source": [
        "def train():\n",
        "    avg_loss = 0\n",
        "    count = 0\n",
        "    for epoch in range(epoch_num):\n",
        "        for data,_ in train_loader:\n",
        "            bs = data.size()[0]\n",
        "            data = Variable(data).view(bs, -1)\n",
        "            optimizer.zero_grad()\n",
        "            loss, imgs_rec = model.loss(data)\n",
        "            avg_loss += loss.cpu().data.numpy()\n",
        "            loss.backward()\n",
        "            torch.nn.utils.clip_grad_norm(model.parameters(), clip)\n",
        "            optimizer.step()\n",
        "            count += 1\n",
        "            if count % 100 == 0:\n",
        "                print('Epoch-{}; Count-{}; loss: {};'.format(epoch, count, avg_loss / 100))\n",
        "                if count % 1000 == 0:\n",
        "                    torch.save(model.state_dict(),'save/weights_%d.tar'%(count))\n",
        "                    print(\"I am here..!\")\n",
        "                    generate_image(imgs_rec, count)\n",
        "                avg_loss = 0\n",
        "    torch.save(model.state_dict(), 'save/weights_final.tar')\n",
        "    generate_image(imgs_rec, count)"
      ],
      "execution_count": null,
      "outputs": []
    },
    {
      "cell_type": "code",
      "metadata": {
        "id": "9a9NwgNJoSIX",
        "colab_type": "code",
        "colab": {}
      },
      "source": [
        "def generate_image(imgs_rec, count):\n",
        "    reconstructed_image_ = imgs_rec\n",
        "    generated_image_ = model.generate(batch_size)\n",
        "    save_image(reconstructed_image_, generated_image_, count)\n",
        "\n",
        "def save_example_image():\n",
        "    train_iter = iter(train_loader)\n",
        "    data, _ = train_iter.next()\n",
        "    img = data.cpu().numpy().reshape(batch_size, 28, 28)\n",
        "    imgs = xrecons_grid(img, B, A)\n",
        "    plt.matshow(imgs, cmap=plt.cm.gray)\n",
        "    plt.savefig('image/example.png')"
      ],
      "execution_count": null,
      "outputs": []
    },
    {
      "cell_type": "code",
      "metadata": {
        "id": "FAtNj_WNoUvP",
        "colab_type": "code",
        "colab": {}
      },
      "source": [
        "if __name__ == '__main__':\n",
        "    save_example_image()\n",
        "    train()"
      ],
      "execution_count": null,
      "outputs": []
    }
  ]
}